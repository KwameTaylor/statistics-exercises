{
 "cells": [
  {
   "cell_type": "code",
   "execution_count": null,
   "metadata": {},
   "outputs": [],
   "source": [
    "# Kwame Taylor\n",
    "# Stats Quiz"
   ]
  },
  {
   "cell_type": "code",
   "execution_count": 1,
   "metadata": {},
   "outputs": [],
   "source": [
    "import matplotlib.pyplot as plt\n",
    "import numpy as np\n",
    "from scipy import stats"
   ]
  },
  {
   "cell_type": "code",
   "execution_count": 3,
   "metadata": {},
   "outputs": [
    {
     "data": {
      "text/plain": [
       "0.16330899776626465"
      ]
     },
     "execution_count": 3,
     "metadata": {},
     "output_type": "execute_result"
    }
   ],
   "source": [
    "#1\n",
    "stats.poisson(61.8).sf(69)"
   ]
  },
  {
   "cell_type": "code",
   "execution_count": null,
   "metadata": {},
   "outputs": [],
   "source": [
    "#10"
   ]
  },
  {
   "cell_type": "markdown",
   "metadata": {},
   "source": [
    "#### Assume that the time it takes to order and eat the burger special at the Esquire is normally distributed with a mean of 40 minutes and a standard deviation of 15 minutes.\n",
    " * If it takes 5 minutes to walk from Codeup to the restaurant, what is the likelihood that you can go eat at The Esquire during your lunch hour and not be late back to class?"
   ]
  },
  {
   "cell_type": "code",
   "execution_count": 14,
   "metadata": {},
   "outputs": [
    {
     "data": {
      "text/plain": [
       "0.748"
      ]
     },
     "execution_count": 14,
     "metadata": {},
     "output_type": "execute_result"
    }
   ],
   "source": [
    "np.round(stats.norm(40, 15).cdf(50), 3)"
   ]
  },
  {
   "cell_type": "markdown",
   "metadata": {},
   "source": [
    "### Answers in plain text\n",
    "\n",
    "0.163\n",
    "\n",
    "Probability Mass Function\n",
    "\n",
    "Inverse Survival Function\n",
    "\n",
    "Uniform: The hottest days of the year by day of the week, because all outcomes are equally likely.\n",
    "Poisson: Number of website visitors every hour, because it is measuring the number of events that occur over a given time period.\n",
    "Binomial: How many people pass the BAR test for every 1000 test takers, because it is counting number of successes for every n amount of trials, in this case 1000.\n",
    "Normal: Average height of horses, because it will be more likely that horses have similar heights than likely a horse is much shorter or much taller than the rest.\n",
    "\n",
    "Uniform Distribution\n",
    "\n",
    "Poisson Distribution\n",
    "\n",
    "Binomial Distribution\n",
    "\n",
    "I would use an independent t-test, with two samples: one being the ages of the web dev students, the other being the ages of the data science students.\n",
    "\n",
    "Null hypothesis: The mean age of web dev students and the mean age of data science students are equal.\n",
    "\n",
    "Alternative hypothesis: The mean age of web dev students is significantly lower than the mean age of data science students.\n",
    "\n",
    "That the samples are independent of each other, the data is normally distributed, and the samples have equal variances.\n",
    "\n",
    "t-statistic\n",
    "\n",
    "If our t-statistic is less than zero and our p-value less than .05\n",
    "\n",
    "If our t-statistic is equal to or more than zero and our p-value/2 is more than .05\n",
    "\n",
    "Chi-Square Test\n",
    "\n",
    "Null hypothesis: Data Science students and Web Dev students are equally likely to have a bachelors degree or beyond.\n",
    "\n",
    "Alternative hypothesis: Data science students are significantly more likely to have a bachelors degree or beyond than Web Dev students.\n",
    "\n",
    "True Positive\n",
    "\n",
    "False Negative (Type II Error)\n",
    "\n",
    "0.748"
   ]
  },
  {
   "cell_type": "code",
   "execution_count": null,
   "metadata": {},
   "outputs": [],
   "source": []
  }
 ],
 "metadata": {
  "kernelspec": {
   "display_name": "Python 3",
   "language": "python",
   "name": "python3"
  },
  "language_info": {
   "codemirror_mode": {
    "name": "ipython",
    "version": 3
   },
   "file_extension": ".py",
   "mimetype": "text/x-python",
   "name": "python",
   "nbconvert_exporter": "python",
   "pygments_lexer": "ipython3",
   "version": "3.8.3"
  }
 },
 "nbformat": 4,
 "nbformat_minor": 4
}
